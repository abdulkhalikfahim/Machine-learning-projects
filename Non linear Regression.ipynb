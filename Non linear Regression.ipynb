{
 "cells": [
  {
   "cell_type": "markdown",
   "id": "e85eb770",
   "metadata": {},
   "source": [
    "The analysis is done on Jupyter-lab environment with python machine learning and numerical packages. Instead of using convenient softwares, python is used to make the report transparent for reader to understand algorithm. The procedure of analysis is as follows:"
   ]
  },
  {
   "cell_type": "markdown",
   "id": "017e3458",
   "metadata": {
    "slideshow": {
     "slide_type": "subslide"
    }
   },
   "source": [
    "# Importing Packages"
   ]
  },
  {
   "cell_type": "markdown",
   "id": "df16aeb3",
   "metadata": {},
   "source": [
    "Firstly, the packages are imported. Statsmodels.api and Scientific \n",
    "python is imported for regression analysis. Matplotlib library is used to visualize the results. Panel Data (Pandas) is used to read xlsx file and to split dataset."
   ]
  },
  {
   "cell_type": "code",
   "execution_count": 1,
   "id": "34fc291a",
   "metadata": {
    "slideshow": {
     "slide_type": "subslide"
    }
   },
   "outputs": [],
   "source": [
    "import numpy as np\n",
    "import pandas as pd\n",
    "import math\n",
    "import random\n",
    "import scipy.stats as ss\n",
    "import statsmodels.api as sm\n",
    "from scipy.optimize import curve_fit\n",
    "import matplotlib.pyplot as plt\n",
    "from sklearn.metrics import r2_score\n"
   ]
  },
  {
   "cell_type": "markdown",
   "id": "da1bd21d",
   "metadata": {},
   "source": [
    "# Importing Data"
   ]
  },
  {
   "cell_type": "code",
   "execution_count": 17,
   "id": "069b3cf2",
   "metadata": {},
   "outputs": [
    {
     "data": {
      "image/png": "[encoded data removed]",
      "text/plain": [
       "<Figure size 432x288 with 1 Axes>"
      ]
     },
     "metadata": {
      "needs_background": "light"
     },
     "output_type": "display_data"
    }
   ],
   "source": [
    "#importing data from excel file into pandas dataframe\n",
    "data = pd.read_excel(\"Datasheet_dr-corrected.xlsx\")\n",
    "# del data[\"Unnamed: 0\"]\n",
    "\n",
    "#slicing data 8:2 for training dataset\n",
    "x = np.array(data['Density'].iloc[:20])\n",
    "y = np.array(data['Speed'].iloc[:20])\n",
    "\n",
    "#plotting the training dataset\n",
    "plt.title(\"Dataset\")\n",
    "plt.scatter(x,y,label=\"Clean Dataset\")\n",
    "plt.legend(),plt.grid()\n",
    "plt.xlabel(\"Density (veh/lane/m)\")\n",
    "plt.ylabel('Speed (m/s)')\n",
    "plt.savefig(\"Dataset\")"
   ]
  },
  {
   "cell_type": "code",
   "execution_count": 3,
   "id": "7248506d",
   "metadata": {},
   "outputs": [
    {
     "data": {
      "text/html": [
       "<div>\n",
       "<style scoped>\n",
       "    .dataframe tbody tr th:only-of-type {\n",
       "        vertical-align: middle;\n",
       "    }\n",
       "\n",
       "    .dataframe tbody tr th {\n",
       "        vertical-align: top;\n",
       "    }\n",
       "\n",
       "    .dataframe thead th {\n",
       "        text-align: right;\n",
       "    }\n",
       "</style>\n",
       "<table border=\"1\" class=\"dataframe\">\n",
       "  <thead>\n",
       "    <tr style=\"text-align: right;\">\n",
       "      <th></th>\n",
       "      <th>Density</th>\n",
       "      <th>Speed</th>\n",
       "    </tr>\n",
       "  </thead>\n",
       "  <tbody>\n",
       "    <tr>\n",
       "      <th>0</th>\n",
       "      <td>0.049000</td>\n",
       "      <td>8.845000</td>\n",
       "    </tr>\n",
       "    <tr>\n",
       "      <th>1</th>\n",
       "      <td>0.057000</td>\n",
       "      <td>10.370000</td>\n",
       "    </tr>\n",
       "    <tr>\n",
       "      <th>2</th>\n",
       "      <td>0.031429</td>\n",
       "      <td>14.959708</td>\n",
       "    </tr>\n",
       "    <tr>\n",
       "      <th>3</th>\n",
       "      <td>0.034286</td>\n",
       "      <td>14.051131</td>\n",
       "    </tr>\n",
       "    <tr>\n",
       "      <th>4</th>\n",
       "      <td>0.034286</td>\n",
       "      <td>12.486536</td>\n",
       "    </tr>\n",
       "    <tr>\n",
       "      <th>5</th>\n",
       "      <td>0.034286</td>\n",
       "      <td>13.664238</td>\n",
       "    </tr>\n",
       "    <tr>\n",
       "      <th>6</th>\n",
       "      <td>0.037143</td>\n",
       "      <td>12.144055</td>\n",
       "    </tr>\n",
       "    <tr>\n",
       "      <th>7</th>\n",
       "      <td>0.037143</td>\n",
       "      <td>13.174407</td>\n",
       "    </tr>\n",
       "    <tr>\n",
       "      <th>8</th>\n",
       "      <td>0.040000</td>\n",
       "      <td>11.757503</td>\n",
       "    </tr>\n",
       "    <tr>\n",
       "      <th>9</th>\n",
       "      <td>0.040000</td>\n",
       "      <td>11.085490</td>\n",
       "    </tr>\n",
       "    <tr>\n",
       "      <th>10</th>\n",
       "      <td>0.042857</td>\n",
       "      <td>10.663100</td>\n",
       "    </tr>\n",
       "    <tr>\n",
       "      <th>11</th>\n",
       "      <td>0.042857</td>\n",
       "      <td>11.238309</td>\n",
       "    </tr>\n",
       "    <tr>\n",
       "      <th>12</th>\n",
       "      <td>0.045714</td>\n",
       "      <td>10.933601</td>\n",
       "    </tr>\n",
       "    <tr>\n",
       "      <th>13</th>\n",
       "      <td>0.045714</td>\n",
       "      <td>10.942800</td>\n",
       "    </tr>\n",
       "    <tr>\n",
       "      <th>14</th>\n",
       "      <td>0.045714</td>\n",
       "      <td>11.356136</td>\n",
       "    </tr>\n",
       "    <tr>\n",
       "      <th>15</th>\n",
       "      <td>0.048571</td>\n",
       "      <td>11.177683</td>\n",
       "    </tr>\n",
       "    <tr>\n",
       "      <th>16</th>\n",
       "      <td>0.048571</td>\n",
       "      <td>9.628838</td>\n",
       "    </tr>\n",
       "    <tr>\n",
       "      <th>17</th>\n",
       "      <td>0.051429</td>\n",
       "      <td>10.446944</td>\n",
       "    </tr>\n",
       "    <tr>\n",
       "      <th>18</th>\n",
       "      <td>0.051429</td>\n",
       "      <td>9.537453</td>\n",
       "    </tr>\n",
       "    <tr>\n",
       "      <th>19</th>\n",
       "      <td>0.054286</td>\n",
       "      <td>9.740088</td>\n",
       "    </tr>\n",
       "  </tbody>\n",
       "</table>\n",
       "</div>"
      ],
      "text/plain": [
       "     Density      Speed\n",
       "0   0.049000   8.845000\n",
       "1   0.057000  10.370000\n",
       "2   0.031429  14.959708\n",
       "3   0.034286  14.051131\n",
       "4   0.034286  12.486536\n",
       "5   0.034286  13.664238\n",
       "6   0.037143  12.144055\n",
       "7   0.037143  13.174407\n",
       "8   0.040000  11.757503\n",
       "9   0.040000  11.085490\n",
       "10  0.042857  10.663100\n",
       "11  0.042857  11.238309\n",
       "12  0.045714  10.933601\n",
       "13  0.045714  10.942800\n",
       "14  0.045714  11.356136\n",
       "15  0.048571  11.177683\n",
       "16  0.048571   9.628838\n",
       "17  0.051429  10.446944\n",
       "18  0.051429   9.537453\n",
       "19  0.054286   9.740088"
      ]
     },
     "execution_count": 3,
     "metadata": {},
     "output_type": "execute_result"
    }
   ],
   "source": [
    "#printing the training dataset\n",
    "data.iloc[:20]\n"
   ]
  },
  {
   "cell_type": "markdown",
   "id": "f0e8a3a3",
   "metadata": {},
   "source": [
    "# "
   ]
  },
  {
   "cell_type": "markdown",
   "id": "e48f051f",
   "metadata": {},
   "source": [
    "# Regression Analysis"
   ]
  },
  {
   "cell_type": "markdown",
   "id": "ecb0ff31",
   "metadata": {},
   "source": [
    "Now, the one linear model and three non-linear model will be trained with training dataset. The OLS and Curve_fit functions are used to run analysis. Scikit-learn built-in package is used to find R2 value for non-linear models."
   ]
  },
  {
   "cell_type": "markdown",
   "id": "b1cd94fb",
   "metadata": {},
   "source": [
    "# Linear Regression"
   ]
  },
  {
   "cell_type": "code",
   "execution_count": 4,
   "id": "c2125a00",
   "metadata": {},
   "outputs": [
    {
     "data": {
      "text/html": [
       "<table class=\"simpletable\">\n",
       "<caption>OLS Regression Results</caption>\n",
       "<tr>\n",
       "  <th>Dep. Variable:</th>            <td>y</td>        <th>  R-squared:         </th> <td>   0.753</td>\n",
       "</tr>\n",
       "<tr>\n",
       "  <th>Model:</th>                   <td>OLS</td>       <th>  Adj. R-squared:    </th> <td>   0.739</td>\n",
       "</tr>\n",
       "<tr>\n",
       "  <th>Method:</th>             <td>Least Squares</td>  <th>  F-statistic:       </th> <td>   54.77</td>\n",
       "</tr>\n",
       "<tr>\n",
       "  <th>Date:</th>             <td>Tue, 14 Feb 2023</td> <th>  Prob (F-statistic):</th> <td>7.29e-07</td>\n",
       "</tr>\n",
       "<tr>\n",
       "  <th>Time:</th>                 <td>01:21:51</td>     <th>  Log-Likelihood:    </th> <td> -23.338</td>\n",
       "</tr>\n",
       "<tr>\n",
       "  <th>No. Observations:</th>      <td>    20</td>      <th>  AIC:               </th> <td>   50.68</td>\n",
       "</tr>\n",
       "<tr>\n",
       "  <th>Df Residuals:</th>          <td>    18</td>      <th>  BIC:               </th> <td>   52.67</td>\n",
       "</tr>\n",
       "<tr>\n",
       "  <th>Df Model:</th>              <td>     1</td>      <th>                     </th>     <td> </td>   \n",
       "</tr>\n",
       "<tr>\n",
       "  <th>Covariance Type:</th>      <td>nonrobust</td>    <th>                     </th>     <td> </td>   \n",
       "</tr>\n",
       "</table>\n",
       "<table class=\"simpletable\">\n",
       "<tr>\n",
       "    <td></td>       <th>coef</th>     <th>std err</th>      <th>t</th>      <th>P>|t|</th>  <th>[0.025</th>    <th>0.975]</th>  \n",
       "</tr>\n",
       "<tr>\n",
       "  <th>const</th> <td>   19.6556</td> <td>    1.129</td> <td>   17.408</td> <td> 0.000</td> <td>   17.283</td> <td>   22.028</td>\n",
       "</tr>\n",
       "<tr>\n",
       "  <th>x1</th>    <td> -189.1770</td> <td>   25.562</td> <td>   -7.401</td> <td> 0.000</td> <td> -242.881</td> <td> -135.473</td>\n",
       "</tr>\n",
       "</table>\n",
       "<table class=\"simpletable\">\n",
       "<tr>\n",
       "  <th>Omnibus:</th>       <td> 0.247</td> <th>  Durbin-Watson:     </th> <td>   1.890</td>\n",
       "</tr>\n",
       "<tr>\n",
       "  <th>Prob(Omnibus):</th> <td> 0.884</td> <th>  Jarque-Bera (JB):  </th> <td>   0.434</td>\n",
       "</tr>\n",
       "<tr>\n",
       "  <th>Skew:</th>          <td> 0.038</td> <th>  Prob(JB):          </th> <td>   0.805</td>\n",
       "</tr>\n",
       "<tr>\n",
       "  <th>Kurtosis:</th>      <td> 2.282</td> <th>  Cond. No.          </th> <td>    140.</td>\n",
       "</tr>\n",
       "</table><br/><br/>Notes:<br/>[1] Standard Errors assume that the covariance matrix of the errors is correctly specified."
      ],
      "text/plain": [
       "<class 'statsmodels.iolib.summary.Summary'>\n",
       "\"\"\"\n",
       "                            OLS Regression Results                            \n",
       "==============================================================================\n",
       "Dep. Variable:                      y   R-squared:                       0.753\n",
       "Model:                            OLS   Adj. R-squared:                  0.739\n",
       "Method:                 Least Squares   F-statistic:                     54.77\n",
       "Date:                Tue, 14 Feb 2023   Prob (F-statistic):           7.29e-07\n",
       "Time:                        01:21:51   Log-Likelihood:                -23.338\n",
       "No. Observations:                  20   AIC:                             50.68\n",
       "Df Residuals:                      18   BIC:                             52.67\n",
       "Df Model:                           1                                         \n",
       "Covariance Type:            nonrobust                                         \n",
       "==============================================================================\n",
       "                 coef    std err          t      P>|t|      [0.025      0.975]\n",
       "------------------------------------------------------------------------------\n",
       "const         19.6556      1.129     17.408      0.000      17.283      22.028\n",
       "x1          -189.1770     25.562     -7.401      0.000    -242.881    -135.473\n",
       "==============================================================================\n",
       "Omnibus:                        0.247   Durbin-Watson:                   1.890\n",
       "Prob(Omnibus):                  0.884   Jarque-Bera (JB):                0.434\n",
       "Skew:                           0.038   Prob(JB):                        0.805\n",
       "Kurtosis:                       2.282   Cond. No.                         140.\n",
       "==============================================================================\n",
       "\n",
       "Notes:\n",
       "[1] Standard Errors assume that the covariance matrix of the errors is correctly specified.\n",
       "\"\"\""
      ]
     },
     "execution_count": 4,
     "metadata": {},
     "output_type": "execute_result"
    }
   ],
   "source": [
    "#add constant for intercept\n",
    "X = sm.add_constant(x)\n",
    "\n",
    "#Run OLS on given variables\n",
    "model = sm.OLS(y,X)\n",
    "\n",
    "#print summary\n",
    "model.fit().summary()\n"
   ]
  },
  {
   "cell_type": "markdown",
   "id": "04752333",
   "metadata": {
    "slideshow": {
     "slide_type": "slide"
    }
   },
   "source": [
    "# Curve fitting- Function:1"
   ]
  },
  {
   "cell_type": "code",
   "execution_count": 5,
   "id": "bc0633c7",
   "metadata": {},
   "outputs": [
    {
     "name": "stdout",
     "output_type": "stream",
     "text": [
      "The Coefficient of determination is : 0.8152943673809129\n",
      "The Coefficients are : [ 1.1068675  -0.73885123]\n"
     ]
    }
   ],
   "source": [
    "#define first exponential function\n",
    "def expf1(x,a,b):\n",
    "    return a*x**b\n",
    "\n",
    "#Run curve fitting from scipy\n",
    "popt,pocv = curve_fit(expf1,x,y)\n",
    "\n",
    "#finding R2 matrix\n",
    "y_pred = expf1(x,*popt)\n",
    "r2 = r2_score(y,y_pred)\n",
    "print(\"The Coefficient of determination is :\",r2)\n",
    "print(\"The Coefficients are :\",popt)\n"
   ]
  },
  {
   "cell_type": "markdown",
   "id": "4d1e94d6",
   "metadata": {
    "slideshow": {
     "slide_type": "slide"
    }
   },
   "source": [
    "# Curve fitting- Function:2"
   ]
  },
  {
   "cell_type": "code",
   "execution_count": 18,
   "id": "7e5e449e",
   "metadata": {},
   "outputs": [
    {
     "name": "stdout",
     "output_type": "stream",
     "text": [
      "The Coefficient of determination is : 0.7830082260376968\n",
      "The Coefficients are : [ 24.02311143 -17.2628133 ]\n"
     ]
    }
   ],
   "source": [
    "#define second function\n",
    "\n",
    "def expf2(x,a,b):\n",
    "    return a*math.e**(x*b)\n",
    "#Run curve fitting from scipy\n",
    "popt,pocv = curve_fit(expf2,x,y)\n",
    "\n",
    "#finding R2 matrix\n",
    "y_pred = expf2(x,*popt)\n",
    "r2 = r2_score(y,y_pred)\n",
    "print(\"The Coefficient of determination is :\",r2)\n",
    "print(\"The Coefficients are :\",popt)"
   ]
  },
  {
   "cell_type": "markdown",
   "id": "4003e6e2",
   "metadata": {
    "slideshow": {
     "slide_type": "slide"
    }
   },
   "source": [
    "# Curve fitting- Function:3"
   ]
  },
  {
   "cell_type": "code",
   "execution_count": 19,
   "id": "79930d85",
   "metadata": {},
   "outputs": [
    {
     "name": "stdout",
     "output_type": "stream",
     "text": [
      "The Coefficient of determination is : 0.849982909670189\n",
      "The Coefficients are : [ 5.75599080e-05 -3.34298148e+00  8.91251502e+00]\n"
     ]
    }
   ],
   "source": [
    "def expf3(x,a,b,c):\n",
    "    return (a*(x**b)+c)\n",
    "#Run curve fitting from scipy\n",
    "popt,pocv = curve_fit(expf3,x,y)\n",
    "\n",
    "#finding R2 matrix\n",
    "y_pred = expf3(x,*popt)\n",
    "r2 = r2_score(y,y_pred)\n",
    "print(\"The Coefficient of determination is :\",r2)\n",
    "print(\"The Coefficients are :\",popt)"
   ]
  },
  {
   "cell_type": "markdown",
   "id": "0f1d5b53",
   "metadata": {},
   "source": [
    "# Visualization"
   ]
  },
  {
   "cell_type": "markdown",
   "id": "370a2f9d",
   "metadata": {},
   "source": [
    "The parameter from each analysis is then used to visualize each model. Data for x axis is generated for getting continuous datapoint."
   ]
  },
  {
   "cell_type": "markdown",
   "id": "aa67dab9",
   "metadata": {},
   "source": [
    "# Linear Model"
   ]
  },
  {
   "cell_type": "code",
   "execution_count": 8,
   "id": "7623a6af",
   "metadata": {},
   "outputs": [
    {
     "data": {
      "image/png": "[encoded data removed]",
      "text/plain": [
       "<Figure size 432x288 with 1 Axes>"
      ]
     },
     "metadata": {
      "needs_background": "light"
     },
     "output_type": "display_data"
    }
   ],
   "source": [
    "xgen = np.arange(0.03,0.06,0.001)\n",
    "ygen = -189.1770*xgen+19.6556\n",
    "plt.title(\"Linear Model\")\n",
    "plt.scatter(x,y,label=\"Dataset\")\n",
    "plt.plot(xgen,ygen,'-k',label=\"Linear Model\")\n",
    "plt.legend(),plt.grid()\n",
    "plt.xlabel(\"Density (veh/lane/m)\")\n",
    "plt.ylabel('Speed (m/s)')\n",
    "plt.savefig(\"linear\")"
   ]
  },
  {
   "cell_type": "markdown",
   "id": "eff097c2",
   "metadata": {},
   "source": [
    "# Non linear model - Function 1"
   ]
  },
  {
   "cell_type": "code",
   "execution_count": 20,
   "id": "868e9704",
   "metadata": {},
   "outputs": [
    {
     "data": {
      "image/png": "[encoded data removed]",
      "text/plain": [
       "<Figure size 432x288 with 1 Axes>"
      ]
     },
     "metadata": {
      "needs_background": "light"
     },
     "output_type": "display_data"
    }
   ],
   "source": [
    "xgen = np.arange(0.03,0.06,0.001)\n",
    "ygen = expf1(xgen,1.1068675,-0.73885123)\n",
    "plt.title(\"Function-1\")\n",
    "plt.scatter(x,y,label=\"Dataset\")\n",
    "plt.plot(xgen,ygen,'k',label=\"ax^b\")\n",
    "plt.legend(),plt.grid()\n",
    "plt.xlabel(\"Density (veh/lane/m)\")\n",
    "plt.ylabel('Speed (m/s)')\n",
    "plt.savefig(\"Func1\")\n"
   ]
  },
  {
   "cell_type": "markdown",
   "id": "cd92d42c",
   "metadata": {},
   "source": [
    "# Non linear model - Function 2"
   ]
  },
  {
   "cell_type": "code",
   "execution_count": 21,
   "id": "892d09a2",
   "metadata": {},
   "outputs": [
    {
     "data": {
      "image/png": "[encoded data removed]",
      "text/plain": [
       "<Figure size 432x288 with 1 Axes>"
      ]
     },
     "metadata": {
      "needs_background": "light"
     },
     "output_type": "display_data"
    }
   ],
   "source": [
    "#generating variables\n",
    "xgen = np.arange(0.03,0.06,0.001)\n",
    "ygen = expf2(xgen,24.02311143 ,-17.2628133 )\n",
    "\n",
    "#plotting data\n",
    "plt.title(\"Function-2\")\n",
    "plt.scatter(x,y,label=\"Dataset\")\n",
    "plt.plot(xgen,ygen,'k',label=\"ae^bx\")\n",
    "plt.legend(),plt.grid()\n",
    "plt.xlabel(\"Density (veh/lane/m)\")\n",
    "plt.ylabel('Speed (m/s)')\n",
    "plt.savefig(\"Func2\")\n"
   ]
  },
  {
   "cell_type": "markdown",
   "id": "76eedf6d",
   "metadata": {},
   "source": [
    "# Non linear model - Function 3"
   ]
  },
  {
   "cell_type": "code",
   "execution_count": 25,
   "id": "69a46022",
   "metadata": {},
   "outputs": [
    {
     "data": {
      "image/png": "[encoded data removed]",
      "text/plain": [
       "<Figure size 432x288 with 1 Axes>"
      ]
     },
     "metadata": {
      "needs_background": "light"
     },
     "output_type": "display_data"
    }
   ],
   "source": [
    "#generating variables\n",
    "xgen = np.arange(0.03,0.06,0.001)\n",
    "ygen = expf3(xgen,5.75599080e-05,-3.34298148e+00,8.91251502e+00)\n",
    "\n",
    "#plotting data\n",
    "plt.title(\"Function-3\")\n",
    "plt.scatter(x,y,label=\"Dataset\")\n",
    "plt.plot(xgen,ygen,'k',label=\"a(X^b)+c\")\n",
    "plt.legend(),plt.grid()\n",
    "plt.xlabel(\"Density (veh/lane/m)\")\n",
    "plt.ylabel('Speed (m/s)')\n",
    "plt.savefig(\"Func3\")\n"
   ]
  },
  {
   "cell_type": "markdown",
   "id": "163b535f",
   "metadata": {},
   "source": [
    "This is the best fitting model with an R2 value of 0.85"
   ]
  }
 ],
 "metadata": {
  "kernelspec": {
   "display_name": "Python 3 (ipykernel)",
   "language": "python",
   "name": "python3"
  },
  "language_info": {
   "codemirror_mode": {
    "name": "ipython",
    "version": 3
   },
   "file_extension": ".py",
   "mimetype": "text/x-python",
   "name": "python",
   "nbconvert_exporter": "python",
   "pygments_lexer": "ipython3",
   "version": "3.8.10"
  }
 },
 "nbformat": 4,
 "nbformat_minor": 5
}
